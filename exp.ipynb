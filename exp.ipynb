{
 "cells": [
  {
   "cell_type": "code",
   "execution_count": 33,
   "metadata": {},
   "outputs": [],
   "source": [
    "dalila_id = \"1aafaf51-e95e-49b5-87ac-a03b57782aea\"\n",
    "vital_student_auth_key = \"sk_us_6HVFmwG8QaXzhAiStAP5kQJYpUqBLi2WMb5MPuQJukM\""
   ]
  },
  {
   "cell_type": "code",
   "execution_count": 36,
   "metadata": {},
   "outputs": [
    {
     "data": {
      "text/plain": [
       "{'providers': []}"
      ]
     },
     "execution_count": 36,
     "metadata": {},
     "output_type": "execute_result"
    }
   ],
   "source": [
    "from vital.client import Vital\n",
    "from vital.environment import VitalEnvironment\n",
    "\n",
    "client = Vital(\n",
    "  api_key=vital_student_auth_key,\n",
    "  environment=VitalEnvironment.SANDBOX\n",
    ")\n",
    "data = client.user.get_connected_providers(dalila_id)\n",
    "data\n",
    "# data = client.user.create(\n",
    "#     client_user_id=\"<client_user_id>\"\n",
    "# )\n",
    "# data"
   ]
  },
  {
   "cell_type": "code",
   "execution_count": null,
   "metadata": {},
   "outputs": [],
   "source": []
  },
  {
   "cell_type": "code",
   "execution_count": 25,
   "metadata": {},
   "outputs": [
    {
     "ename": "TypeError",
     "evalue": "'GroupedCaloriesActiveResponse' object is not subscriptable",
     "output_type": "error",
     "traceback": [
      "\u001b[0;31m---------------------------------------------------------------------------\u001b[0m",
      "\u001b[0;31mTypeError\u001b[0m                                 Traceback (most recent call last)",
      "Cell \u001b[0;32mIn[25], line 15\u001b[0m\n\u001b[1;32m      4\u001b[0m client \u001b[38;5;241m=\u001b[39m Vital(\n\u001b[1;32m      5\u001b[0m   api_key\u001b[38;5;241m=\u001b[39m vital_student_auth_key,\n\u001b[1;32m      6\u001b[0m   environment\u001b[38;5;241m=\u001b[39mVitalEnvironment\u001b[38;5;241m.\u001b[39mSANDBOX\n\u001b[1;32m      7\u001b[0m )\n\u001b[1;32m      9\u001b[0m data \u001b[38;5;241m=\u001b[39m client\u001b[38;5;241m.\u001b[39mvitals\u001b[38;5;241m.\u001b[39mcalories_active_grouped(\n\u001b[1;32m     10\u001b[0m   user_id\u001b[38;5;241m=\u001b[39m dalila_id, \n\u001b[1;32m     11\u001b[0m   start_date\u001b[38;5;241m=\u001b[39m\u001b[38;5;124m\"\u001b[39m\u001b[38;5;124m2023-10-01\u001b[39m\u001b[38;5;124m\"\u001b[39m, \n\u001b[1;32m     12\u001b[0m   end_date\u001b[38;5;241m=\u001b[39m\u001b[38;5;124m\"\u001b[39m\u001b[38;5;124m2023-10-02\u001b[39m\u001b[38;5;124m\"\u001b[39m\n\u001b[1;32m     13\u001b[0m )\n\u001b[0;32m---> 15\u001b[0m \u001b[43mdata\u001b[49m\u001b[43m[\u001b[49m\u001b[38;5;124;43m'\u001b[39;49m\u001b[38;5;124;43mgroups\u001b[39;49m\u001b[38;5;124;43m'\u001b[39;49m\u001b[43m]\u001b[49m\n",
      "\u001b[0;31mTypeError\u001b[0m: 'GroupedCaloriesActiveResponse' object is not subscriptable"
     ]
    }
   ],
   "source": [
    "from vital.client import Vital\n",
    "from vital.environment import VitalEnvironment\n",
    "\n",
    "client = Vital(\n",
    "  api_key= vital_student_auth_key,\n",
    "  environment=VitalEnvironment.SANDBOX\n",
    ")\n",
    "\n",
    "data = client.vitals.calories_active_grouped(\n",
    "  user_id= dalila_id, \n",
    "  start_date=\"2023-10-01\", \n",
    "  end_date=\"2023-10-02\"\n",
    ")\n"
   ]
  },
  {
   "cell_type": "code",
   "execution_count": 34,
   "metadata": {},
   "outputs": [],
   "source": [
    "import pandas as pd\n",
    "\n",
    "\n",
    "# vital_student_auth_key = \"sk_us_0agd3WczBFZTKZ3VPZQ6XAlTvlgL59p5u7Ma8shK3N0\"\n",
    "# dalila_id = \"108adcd9-fc8f-4c1d-9371-431e706334b9\" #(Dalila's user ID)\n",
    "\n",
    "from vital.client import Vital\n",
    "from vital.environment import VitalEnvironment\n",
    "client = Vital(\n",
    "  api_key=vital_student_auth_key,\n",
    "  environment=VitalEnvironment.SANDBOX\n",
    ")\n",
    "\n",
    "data = client.providers.get_all()\n",
    "\n",
    "## show ProviderDetailed\n",
    "functions = ['steps']\n",
    "data = {}\n",
    "for func in functions:\n",
    "    client = Vital(\n",
    "    api_key=vital_student_auth_key,\n",
    "    environment=VitalEnvironment.SANDBOX\n",
    "  )\n",
    "    method = getattr(client.vitals, func)\n",
    "    function_data = method(\n",
    "        user_id=dalila_id,\n",
    "        start_date=\"2023-11-10\",\n",
    "        end_date = '2023-11-17'\n",
    "\n",
    "    )\n",
    "    if (len(function_data)!=0):\n",
    "      print(func)\n",
    "      print(type(function_data))\n",
    "      data[func]=function_data\n",
    "\n",
    "for i in data:\n",
    "  final_data = pd.DataFrame()\n",
    "  for j in range(len(data[i])):\n",
    "    final_data = pd.concat([final_data, pd.DataFrame([vars(data[i][j])])], ignore_index=True)\n",
    "\n",
    "## save data into seperate csv files\n",
    "# for i in data:\n",
    "#   final_data = pd.DataFrame()\n",
    "#   for j in range(len(data[i])):\n",
    "#     final_data = pd.concat([final_data, pd.DataFrame([vars(data[i][j])])], ignore_index=True)\n",
    "#   filename = f'src/vital_csvs/dataframe_{i}.csv'  # Unique filename for each DataFrame #change back to dataframe_{i}.csv\n",
    "#   final_data.to_csv(filename, index=False)\n",
    "  # print(final_data)"
   ]
  },
  {
   "cell_type": "code",
   "execution_count": 35,
   "metadata": {},
   "outputs": [
    {
     "data": {
      "text/html": [
       "<div>\n",
       "<style scoped>\n",
       "    .dataframe tbody tr th:only-of-type {\n",
       "        vertical-align: middle;\n",
       "    }\n",
       "\n",
       "    .dataframe tbody tr th {\n",
       "        vertical-align: top;\n",
       "    }\n",
       "\n",
       "    .dataframe thead th {\n",
       "        text-align: right;\n",
       "    }\n",
       "</style>\n",
       "<table border=\"1\" class=\"dataframe\">\n",
       "  <thead>\n",
       "    <tr style=\"text-align: right;\">\n",
       "      <th></th>\n",
       "    </tr>\n",
       "  </thead>\n",
       "  <tbody>\n",
       "  </tbody>\n",
       "</table>\n",
       "</div>"
      ],
      "text/plain": [
       "Empty DataFrame\n",
       "Columns: []\n",
       "Index: []"
      ]
     },
     "execution_count": 35,
     "metadata": {},
     "output_type": "execute_result"
    }
   ],
   "source": [
    "final_data"
   ]
  },
  {
   "cell_type": "code",
   "execution_count": null,
   "metadata": {},
   "outputs": [],
   "source": []
  }
 ],
 "metadata": {
  "kernelspec": {
   "display_name": "Python 3",
   "language": "python",
   "name": "python3"
  },
  "language_info": {
   "codemirror_mode": {
    "name": "ipython",
    "version": 3
   },
   "file_extension": ".py",
   "mimetype": "text/x-python",
   "name": "python",
   "nbconvert_exporter": "python",
   "pygments_lexer": "ipython3",
   "version": "3.8.0"
  }
 },
 "nbformat": 4,
 "nbformat_minor": 2
}
